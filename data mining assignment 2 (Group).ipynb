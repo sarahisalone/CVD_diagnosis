{
 "cells": [
  {
   "cell_type": "code",
   "execution_count": 1,
   "id": "5850b424-2393-456b-a14d-b55b4c573081",
   "metadata": {},
   "outputs": [],
   "source": [
    "import pandas as pd\n",
    "import numpy as np\n",
    "import seaborn as sns\n",
    "import matplotlib.pyplot as plt\n",
    "import matplotlib.dates as mdates\n",
    "\n",
    "import plotly.express as px\n",
    "import plotly.graph_objs as go\n",
    "from plotly.subplots import make_subplots\n",
    "from sklearn.model_selection import train_test_split"
   ]
  },
  {
   "cell_type": "code",
   "execution_count": 2,
   "id": "165aad23-8e35-4d52-86e0-e5b20a4f6cc7",
   "metadata": {},
   "outputs": [],
   "source": [
    "df = pd.read_csv('/Users/sarahdarlyna/Downloads/cardio_train.csv', sep = ';')"
   ]
  },
  {
   "cell_type": "code",
   "execution_count": 3,
   "id": "9cac57ed-fc86-49c4-a4f9-7404bf35a45d",
   "metadata": {},
   "outputs": [
    {
     "data": {
      "text/html": [
       "<div>\n",
       "<style scoped>\n",
       "    .dataframe tbody tr th:only-of-type {\n",
       "        vertical-align: middle;\n",
       "    }\n",
       "\n",
       "    .dataframe tbody tr th {\n",
       "        vertical-align: top;\n",
       "    }\n",
       "\n",
       "    .dataframe thead th {\n",
       "        text-align: right;\n",
       "    }\n",
       "</style>\n",
       "<table border=\"1\" class=\"dataframe\">\n",
       "  <thead>\n",
       "    <tr style=\"text-align: right;\">\n",
       "      <th></th>\n",
       "      <th>id</th>\n",
       "      <th>age</th>\n",
       "      <th>gender</th>\n",
       "      <th>height</th>\n",
       "      <th>weight</th>\n",
       "      <th>ap_hi</th>\n",
       "      <th>ap_lo</th>\n",
       "      <th>cholesterol</th>\n",
       "      <th>gluc</th>\n",
       "      <th>smoke</th>\n",
       "      <th>alco</th>\n",
       "      <th>active</th>\n",
       "      <th>cardio</th>\n",
       "    </tr>\n",
       "  </thead>\n",
       "  <tbody>\n",
       "    <tr>\n",
       "      <th>0</th>\n",
       "      <td>0</td>\n",
       "      <td>18393</td>\n",
       "      <td>2</td>\n",
       "      <td>168</td>\n",
       "      <td>62.0</td>\n",
       "      <td>110</td>\n",
       "      <td>80</td>\n",
       "      <td>1</td>\n",
       "      <td>1</td>\n",
       "      <td>0</td>\n",
       "      <td>0</td>\n",
       "      <td>1</td>\n",
       "      <td>0</td>\n",
       "    </tr>\n",
       "    <tr>\n",
       "      <th>1</th>\n",
       "      <td>1</td>\n",
       "      <td>20228</td>\n",
       "      <td>1</td>\n",
       "      <td>156</td>\n",
       "      <td>85.0</td>\n",
       "      <td>140</td>\n",
       "      <td>90</td>\n",
       "      <td>3</td>\n",
       "      <td>1</td>\n",
       "      <td>0</td>\n",
       "      <td>0</td>\n",
       "      <td>1</td>\n",
       "      <td>1</td>\n",
       "    </tr>\n",
       "    <tr>\n",
       "      <th>2</th>\n",
       "      <td>2</td>\n",
       "      <td>18857</td>\n",
       "      <td>1</td>\n",
       "      <td>165</td>\n",
       "      <td>64.0</td>\n",
       "      <td>130</td>\n",
       "      <td>70</td>\n",
       "      <td>3</td>\n",
       "      <td>1</td>\n",
       "      <td>0</td>\n",
       "      <td>0</td>\n",
       "      <td>0</td>\n",
       "      <td>1</td>\n",
       "    </tr>\n",
       "    <tr>\n",
       "      <th>3</th>\n",
       "      <td>3</td>\n",
       "      <td>17623</td>\n",
       "      <td>2</td>\n",
       "      <td>169</td>\n",
       "      <td>82.0</td>\n",
       "      <td>150</td>\n",
       "      <td>100</td>\n",
       "      <td>1</td>\n",
       "      <td>1</td>\n",
       "      <td>0</td>\n",
       "      <td>0</td>\n",
       "      <td>1</td>\n",
       "      <td>1</td>\n",
       "    </tr>\n",
       "    <tr>\n",
       "      <th>4</th>\n",
       "      <td>4</td>\n",
       "      <td>17474</td>\n",
       "      <td>1</td>\n",
       "      <td>156</td>\n",
       "      <td>56.0</td>\n",
       "      <td>100</td>\n",
       "      <td>60</td>\n",
       "      <td>1</td>\n",
       "      <td>1</td>\n",
       "      <td>0</td>\n",
       "      <td>0</td>\n",
       "      <td>0</td>\n",
       "      <td>0</td>\n",
       "    </tr>\n",
       "  </tbody>\n",
       "</table>\n",
       "</div>"
      ],
      "text/plain": [
       "   id    age  gender  height  weight  ap_hi  ap_lo  cholesterol  gluc  smoke  \\\n",
       "0   0  18393       2     168    62.0    110     80            1     1      0   \n",
       "1   1  20228       1     156    85.0    140     90            3     1      0   \n",
       "2   2  18857       1     165    64.0    130     70            3     1      0   \n",
       "3   3  17623       2     169    82.0    150    100            1     1      0   \n",
       "4   4  17474       1     156    56.0    100     60            1     1      0   \n",
       "\n",
       "   alco  active  cardio  \n",
       "0     0       1       0  \n",
       "1     0       1       1  \n",
       "2     0       0       1  \n",
       "3     0       1       1  \n",
       "4     0       0       0  "
      ]
     },
     "execution_count": 3,
     "metadata": {},
     "output_type": "execute_result"
    }
   ],
   "source": [
    "df.head()"
   ]
  },
  {
   "cell_type": "markdown",
   "id": "627fdb8e",
   "metadata": {},
   "source": [
    "### PRE-PROCESSING"
   ]
  },
  {
   "cell_type": "code",
   "execution_count": 4,
   "id": "b6fa797b-fe23-4ff6-be0c-4fc9fb9349b8",
   "metadata": {},
   "outputs": [
    {
     "data": {
      "text/plain": [
       "(70000, 13)"
      ]
     },
     "execution_count": 4,
     "metadata": {},
     "output_type": "execute_result"
    }
   ],
   "source": [
    "df.shape"
   ]
  },
  {
   "cell_type": "code",
   "execution_count": 5,
   "id": "e33a83ec",
   "metadata": {},
   "outputs": [
    {
     "data": {
      "text/plain": [
       "id             0\n",
       "age            0\n",
       "gender         0\n",
       "height         0\n",
       "weight         0\n",
       "ap_hi          0\n",
       "ap_lo          0\n",
       "cholesterol    0\n",
       "gluc           0\n",
       "smoke          0\n",
       "alco           0\n",
       "active         0\n",
       "cardio         0\n",
       "dtype: int64"
      ]
     },
     "execution_count": 5,
     "metadata": {},
     "output_type": "execute_result"
    }
   ],
   "source": [
    "df.isnull().sum()"
   ]
  },
  {
   "cell_type": "code",
   "execution_count": 6,
   "id": "cf14052f",
   "metadata": {},
   "outputs": [],
   "source": [
    "numerical_col = ['age','weight','height','ap_hi','ap_lo']"
   ]
  },
  {
   "cell_type": "code",
   "execution_count": 7,
   "id": "c8a1b0c8",
   "metadata": {},
   "outputs": [
    {
     "data": {
      "text/plain": [
       "<Axes: >"
      ]
     },
     "execution_count": 7,
     "metadata": {},
     "output_type": "execute_result"
    },
    {
     "data": {
      "image/png": "[encoded data removed]",
      "text/plain": [
       "<Figure size 640x480 with 1 Axes>"
      ]
     },
     "metadata": {},
     "output_type": "display_data"
    }
   ],
   "source": [
    "df.boxplot(numerical_col)"
   ]
  },
  {
   "cell_type": "code",
   "execution_count": 8,
   "id": "8e83bf3e",
   "metadata": {},
   "outputs": [],
   "source": [
    "for x in ['age']:\n",
    "    q75,q25 = np.percentile(df.loc[:,x],[75,25])\n",
    "    intr_qr = q75-q25\n",
    " \n",
    "    max = q75+(1.5*intr_qr)\n",
    "    min = q25-(1.5*intr_qr)\n",
    " \n",
    "    df.loc[df[x] < min,x] = np.nan\n",
    "    df.loc[df[x] > max,x] = np.nan"
   ]
  },
  {
   "cell_type": "code",
   "execution_count": 9,
   "id": "8bd99eb5",
   "metadata": {},
   "outputs": [
    {
     "data": {
      "text/plain": [
       "id             0\n",
       "age            4\n",
       "gender         0\n",
       "height         0\n",
       "weight         0\n",
       "ap_hi          0\n",
       "ap_lo          0\n",
       "cholesterol    0\n",
       "gluc           0\n",
       "smoke          0\n",
       "alco           0\n",
       "active         0\n",
       "cardio         0\n",
       "dtype: int64"
      ]
     },
     "execution_count": 9,
     "metadata": {},
     "output_type": "execute_result"
    }
   ],
   "source": [
    "df.isnull().sum()"
   ]
  },
  {
   "cell_type": "code",
   "execution_count": 10,
   "id": "3ee8f789",
   "metadata": {},
   "outputs": [],
   "source": [
    "df_n = df.dropna(axis = 0)"
   ]
  },
  {
   "cell_type": "code",
   "execution_count": 11,
   "id": "f77b2bce",
   "metadata": {},
   "outputs": [],
   "source": [
    "for x in ['weight']:\n",
    "    q75,q25 = np.percentile(df.loc[:,x],[75,25])\n",
    "    intr_qr = q75-q25\n",
    " \n",
    "    max = q75+(1.5*intr_qr)\n",
    "    min = q25-(1.5*intr_qr)\n",
    " \n",
    "    df_n.loc[df[x] < min,x] = np.nan\n",
    "    df_n.loc[df[x] > max,x] = np.nan"
   ]
  },
  {
   "cell_type": "code",
   "execution_count": 12,
   "id": "62af0e31",
   "metadata": {},
   "outputs": [],
   "source": [
    "df_n1 = df_n.dropna(axis = 0)"
   ]
  },
  {
   "cell_type": "code",
   "execution_count": 13,
   "id": "e37ba905",
   "metadata": {},
   "outputs": [],
   "source": [
    "for x in ['height']:\n",
    "    q75,q25 = np.percentile(df.loc[:,x],[75,25])\n",
    "    intr_qr = q75-q25\n",
    " \n",
    "    max = q75+(1.5*intr_qr)\n",
    "    min = q25-(1.5*intr_qr)\n",
    " \n",
    "    df_n1.loc[df[x] < min,x] = np.nan\n",
    "    df_n1.loc[df[x] > max,x] = np.nan"
   ]
  },
  {
   "cell_type": "code",
   "execution_count": 14,
   "id": "89376c89",
   "metadata": {},
   "outputs": [],
   "source": [
    "df_n2 = df_n1.dropna(axis = 0)"
   ]
  },
  {
   "cell_type": "code",
   "execution_count": 15,
   "id": "7786679d",
   "metadata": {},
   "outputs": [],
   "source": [
    "for x in ['ap_hi']:\n",
    "    q75,q25 = np.percentile(df.loc[:,x],[75,25])\n",
    "    intr_qr = q75-q25\n",
    " \n",
    "    max = q75+(1.5*intr_qr)\n",
    "    min = q25-(1.5*intr_qr)\n",
    " \n",
    "    df_n2.loc[df[x] < min,x] = np.nan\n",
    "    df_n2.loc[df[x] > max,x] = np.nan"
   ]
  },
  {
   "cell_type": "code",
   "execution_count": 16,
   "id": "75717bc2",
   "metadata": {},
   "outputs": [],
   "source": [
    "df_n3 = df_n2.dropna(axis = 0)"
   ]
  },
  {
   "cell_type": "code",
   "execution_count": 17,
   "id": "13230a25",
   "metadata": {},
   "outputs": [],
   "source": [
    "for x in ['ap_lo']:\n",
    "    q75,q25 = np.percentile(df.loc[:,x],[75,25])\n",
    "    intr_qr = q75-q25\n",
    " \n",
    "    max = q75+(1.5*intr_qr)\n",
    "    min = q25-(1.5*intr_qr)\n",
    " \n",
    "    df_n3.loc[df[x] < min,x] = np.nan\n",
    "    df_n3.loc[df[x] > max,x] = np.nan"
   ]
  },
  {
   "cell_type": "code",
   "execution_count": 18,
   "id": "332062ec",
   "metadata": {},
   "outputs": [],
   "source": [
    "df = df_n3.dropna(axis = 0)"
   ]
  },
  {
   "cell_type": "code",
   "execution_count": 19,
   "id": "b50f9710",
   "metadata": {},
   "outputs": [
    {
     "data": {
      "image/png": "[encoded data removed]",
      "text/plain": [
       "<Figure size 640x480 with 1 Axes>"
      ]
     },
     "metadata": {},
     "output_type": "display_data"
    }
   ],
   "source": [
    "df.boxplot(numerical_col)\n",
    "plt.show()"
   ]
  },
  {
   "cell_type": "code",
   "execution_count": 20,
   "id": "c5c01417",
   "metadata": {},
   "outputs": [
    {
     "name": "stderr",
     "output_type": "stream",
     "text": [
      "/var/folders/3x/tsxrtmqs7jq7xv162sz88xnc0000gn/T/ipykernel_36482/276809094.py:1: SettingWithCopyWarning: \n",
      "A value is trying to be set on a copy of a slice from a DataFrame.\n",
      "Try using .loc[row_indexer,col_indexer] = value instead\n",
      "\n",
      "See the caveats in the documentation: https://pandas.pydata.org/pandas-docs/stable/user_guide/indexing.html#returning-a-view-versus-a-copy\n",
      "  df['age'] = (df['age'] // 365).astype(int)\n"
     ]
    }
   ],
   "source": [
    "df['age'] = (df['age'] // 365).astype(int)"
   ]
  },
  {
   "cell_type": "code",
   "execution_count": 21,
   "id": "c6268da6",
   "metadata": {},
   "outputs": [
    {
     "data": {
      "text/html": [
       "<div>\n",
       "<style scoped>\n",
       "    .dataframe tbody tr th:only-of-type {\n",
       "        vertical-align: middle;\n",
       "    }\n",
       "\n",
       "    .dataframe tbody tr th {\n",
       "        vertical-align: top;\n",
       "    }\n",
       "\n",
       "    .dataframe thead th {\n",
       "        text-align: right;\n",
       "    }\n",
       "</style>\n",
       "<table border=\"1\" class=\"dataframe\">\n",
       "  <thead>\n",
       "    <tr style=\"text-align: right;\">\n",
       "      <th></th>\n",
       "      <th>id</th>\n",
       "      <th>age</th>\n",
       "      <th>gender</th>\n",
       "      <th>height</th>\n",
       "      <th>weight</th>\n",
       "      <th>ap_hi</th>\n",
       "      <th>ap_lo</th>\n",
       "      <th>cholesterol</th>\n",
       "      <th>gluc</th>\n",
       "      <th>smoke</th>\n",
       "      <th>alco</th>\n",
       "      <th>active</th>\n",
       "      <th>cardio</th>\n",
       "    </tr>\n",
       "  </thead>\n",
       "  <tbody>\n",
       "    <tr>\n",
       "      <th>0</th>\n",
       "      <td>0</td>\n",
       "      <td>50</td>\n",
       "      <td>2</td>\n",
       "      <td>168.0</td>\n",
       "      <td>62.0</td>\n",
       "      <td>110.0</td>\n",
       "      <td>80.0</td>\n",
       "      <td>1</td>\n",
       "      <td>1</td>\n",
       "      <td>0</td>\n",
       "      <td>0</td>\n",
       "      <td>1</td>\n",
       "      <td>0</td>\n",
       "    </tr>\n",
       "    <tr>\n",
       "      <th>1</th>\n",
       "      <td>1</td>\n",
       "      <td>55</td>\n",
       "      <td>1</td>\n",
       "      <td>156.0</td>\n",
       "      <td>85.0</td>\n",
       "      <td>140.0</td>\n",
       "      <td>90.0</td>\n",
       "      <td>3</td>\n",
       "      <td>1</td>\n",
       "      <td>0</td>\n",
       "      <td>0</td>\n",
       "      <td>1</td>\n",
       "      <td>1</td>\n",
       "    </tr>\n",
       "    <tr>\n",
       "      <th>2</th>\n",
       "      <td>2</td>\n",
       "      <td>51</td>\n",
       "      <td>1</td>\n",
       "      <td>165.0</td>\n",
       "      <td>64.0</td>\n",
       "      <td>130.0</td>\n",
       "      <td>70.0</td>\n",
       "      <td>3</td>\n",
       "      <td>1</td>\n",
       "      <td>0</td>\n",
       "      <td>0</td>\n",
       "      <td>0</td>\n",
       "      <td>1</td>\n",
       "    </tr>\n",
       "    <tr>\n",
       "      <th>3</th>\n",
       "      <td>3</td>\n",
       "      <td>48</td>\n",
       "      <td>2</td>\n",
       "      <td>169.0</td>\n",
       "      <td>82.0</td>\n",
       "      <td>150.0</td>\n",
       "      <td>100.0</td>\n",
       "      <td>1</td>\n",
       "      <td>1</td>\n",
       "      <td>0</td>\n",
       "      <td>0</td>\n",
       "      <td>1</td>\n",
       "      <td>1</td>\n",
       "    </tr>\n",
       "    <tr>\n",
       "      <th>5</th>\n",
       "      <td>8</td>\n",
       "      <td>60</td>\n",
       "      <td>1</td>\n",
       "      <td>151.0</td>\n",
       "      <td>67.0</td>\n",
       "      <td>120.0</td>\n",
       "      <td>80.0</td>\n",
       "      <td>2</td>\n",
       "      <td>2</td>\n",
       "      <td>0</td>\n",
       "      <td>0</td>\n",
       "      <td>0</td>\n",
       "      <td>0</td>\n",
       "    </tr>\n",
       "  </tbody>\n",
       "</table>\n",
       "</div>"
      ],
      "text/plain": [
       "   id  age  gender  height  weight  ap_hi  ap_lo  cholesterol  gluc  smoke  \\\n",
       "0   0   50       2   168.0    62.0  110.0   80.0            1     1      0   \n",
       "1   1   55       1   156.0    85.0  140.0   90.0            3     1      0   \n",
       "2   2   51       1   165.0    64.0  130.0   70.0            3     1      0   \n",
       "3   3   48       2   169.0    82.0  150.0  100.0            1     1      0   \n",
       "5   8   60       1   151.0    67.0  120.0   80.0            2     2      0   \n",
       "\n",
       "   alco  active  cardio  \n",
       "0     0       1       0  \n",
       "1     0       1       1  \n",
       "2     0       0       1  \n",
       "3     0       1       1  \n",
       "5     0       0       0  "
      ]
     },
     "execution_count": 21,
     "metadata": {},
     "output_type": "execute_result"
    }
   ],
   "source": [
    "df.head()"
   ]
  },
  {
   "cell_type": "code",
   "execution_count": 22,
   "id": "2083534f",
   "metadata": {},
   "outputs": [
    {
     "name": "stdout",
     "output_type": "stream",
     "text": [
      "Dataset contains no Duplicate Values\n"
     ]
    }
   ],
   "source": [
    "duplicate_sum = df.duplicated().sum()\n",
    "if duplicate_sum:\n",
    "    print('Duplicates Rows in Dataset are : {}'.format(duplicate_sum))\n",
    "else:\n",
    "    print('Dataset contains no Duplicate Values')"
   ]
  },
  {
   "cell_type": "code",
   "execution_count": 23,
   "id": "622c23c7",
   "metadata": {
    "scrolled": true
   },
   "outputs": [
    {
     "data": {
      "text/html": [
       "<div>\n",
       "<style scoped>\n",
       "    .dataframe tbody tr th:only-of-type {\n",
       "        vertical-align: middle;\n",
       "    }\n",
       "\n",
       "    .dataframe tbody tr th {\n",
       "        vertical-align: top;\n",
       "    }\n",
       "\n",
       "    .dataframe thead th {\n",
       "        text-align: right;\n",
       "    }\n",
       "</style>\n",
       "<table border=\"1\" class=\"dataframe\">\n",
       "  <thead>\n",
       "    <tr style=\"text-align: right;\">\n",
       "      <th></th>\n",
       "      <th>id</th>\n",
       "      <th>age</th>\n",
       "      <th>gender</th>\n",
       "      <th>height</th>\n",
       "      <th>weight</th>\n",
       "      <th>ap_hi</th>\n",
       "      <th>ap_lo</th>\n",
       "      <th>cholesterol</th>\n",
       "      <th>gluc</th>\n",
       "      <th>smoke</th>\n",
       "      <th>alco</th>\n",
       "      <th>active</th>\n",
       "      <th>cardio</th>\n",
       "    </tr>\n",
       "  </thead>\n",
       "  <tbody>\n",
       "    <tr>\n",
       "      <th>count</th>\n",
       "      <td>62502.000000</td>\n",
       "      <td>62502.000000</td>\n",
       "      <td>62502.000000</td>\n",
       "      <td>62502.000000</td>\n",
       "      <td>62502.000000</td>\n",
       "      <td>62502.000000</td>\n",
       "      <td>62502.000000</td>\n",
       "      <td>62502.000000</td>\n",
       "      <td>62502.000000</td>\n",
       "      <td>62502.000000</td>\n",
       "      <td>62502.000000</td>\n",
       "      <td>62502.000000</td>\n",
       "      <td>62502.000000</td>\n",
       "    </tr>\n",
       "    <tr>\n",
       "      <th>mean</th>\n",
       "      <td>49941.878468</td>\n",
       "      <td>52.908867</td>\n",
       "      <td>1.348581</td>\n",
       "      <td>164.406131</td>\n",
       "      <td>73.181456</td>\n",
       "      <td>126.420339</td>\n",
       "      <td>81.699146</td>\n",
       "      <td>1.357717</td>\n",
       "      <td>1.220649</td>\n",
       "      <td>0.086349</td>\n",
       "      <td>0.052174</td>\n",
       "      <td>0.804310</td>\n",
       "      <td>0.493904</td>\n",
       "    </tr>\n",
       "    <tr>\n",
       "      <th>std</th>\n",
       "      <td>28864.471866</td>\n",
       "      <td>6.741475</td>\n",
       "      <td>0.476525</td>\n",
       "      <td>7.531374</td>\n",
       "      <td>12.271998</td>\n",
       "      <td>14.289980</td>\n",
       "      <td>7.673399</td>\n",
       "      <td>0.675203</td>\n",
       "      <td>0.567601</td>\n",
       "      <td>0.280881</td>\n",
       "      <td>0.222380</td>\n",
       "      <td>0.396734</td>\n",
       "      <td>0.499967</td>\n",
       "    </tr>\n",
       "    <tr>\n",
       "      <th>min</th>\n",
       "      <td>0.000000</td>\n",
       "      <td>39.000000</td>\n",
       "      <td>1.000000</td>\n",
       "      <td>143.000000</td>\n",
       "      <td>40.000000</td>\n",
       "      <td>90.000000</td>\n",
       "      <td>65.000000</td>\n",
       "      <td>1.000000</td>\n",
       "      <td>1.000000</td>\n",
       "      <td>0.000000</td>\n",
       "      <td>0.000000</td>\n",
       "      <td>0.000000</td>\n",
       "      <td>0.000000</td>\n",
       "    </tr>\n",
       "    <tr>\n",
       "      <th>25%</th>\n",
       "      <td>24876.500000</td>\n",
       "      <td>48.000000</td>\n",
       "      <td>1.000000</td>\n",
       "      <td>159.000000</td>\n",
       "      <td>65.000000</td>\n",
       "      <td>120.000000</td>\n",
       "      <td>80.000000</td>\n",
       "      <td>1.000000</td>\n",
       "      <td>1.000000</td>\n",
       "      <td>0.000000</td>\n",
       "      <td>0.000000</td>\n",
       "      <td>1.000000</td>\n",
       "      <td>0.000000</td>\n",
       "    </tr>\n",
       "    <tr>\n",
       "      <th>50%</th>\n",
       "      <td>49980.500000</td>\n",
       "      <td>54.000000</td>\n",
       "      <td>1.000000</td>\n",
       "      <td>165.000000</td>\n",
       "      <td>72.000000</td>\n",
       "      <td>120.000000</td>\n",
       "      <td>80.000000</td>\n",
       "      <td>1.000000</td>\n",
       "      <td>1.000000</td>\n",
       "      <td>0.000000</td>\n",
       "      <td>0.000000</td>\n",
       "      <td>1.000000</td>\n",
       "      <td>0.000000</td>\n",
       "    </tr>\n",
       "    <tr>\n",
       "      <th>75%</th>\n",
       "      <td>74848.750000</td>\n",
       "      <td>58.000000</td>\n",
       "      <td>2.000000</td>\n",
       "      <td>170.000000</td>\n",
       "      <td>81.000000</td>\n",
       "      <td>140.000000</td>\n",
       "      <td>90.000000</td>\n",
       "      <td>1.000000</td>\n",
       "      <td>1.000000</td>\n",
       "      <td>0.000000</td>\n",
       "      <td>0.000000</td>\n",
       "      <td>1.000000</td>\n",
       "      <td>1.000000</td>\n",
       "    </tr>\n",
       "    <tr>\n",
       "      <th>max</th>\n",
       "      <td>99999.000000</td>\n",
       "      <td>64.000000</td>\n",
       "      <td>2.000000</td>\n",
       "      <td>186.000000</td>\n",
       "      <td>107.000000</td>\n",
       "      <td>170.000000</td>\n",
       "      <td>105.000000</td>\n",
       "      <td>3.000000</td>\n",
       "      <td>3.000000</td>\n",
       "      <td>1.000000</td>\n",
       "      <td>1.000000</td>\n",
       "      <td>1.000000</td>\n",
       "      <td>1.000000</td>\n",
       "    </tr>\n",
       "  </tbody>\n",
       "</table>\n",
       "</div>"
      ],
      "text/plain": [
       "                 id           age        gender        height        weight  \\\n",
       "count  62502.000000  62502.000000  62502.000000  62502.000000  62502.000000   \n",
       "mean   49941.878468     52.908867      1.348581    164.406131     73.181456   \n",
       "std    28864.471866      6.741475      0.476525      7.531374     12.271998   \n",
       "min        0.000000     39.000000      1.000000    143.000000     40.000000   \n",
       "25%    24876.500000     48.000000      1.000000    159.000000     65.000000   \n",
       "50%    49980.500000     54.000000      1.000000    165.000000     72.000000   \n",
       "75%    74848.750000     58.000000      2.000000    170.000000     81.000000   \n",
       "max    99999.000000     64.000000      2.000000    186.000000    107.000000   \n",
       "\n",
       "              ap_hi         ap_lo   cholesterol          gluc         smoke  \\\n",
       "count  62502.000000  62502.000000  62502.000000  62502.000000  62502.000000   \n",
       "mean     126.420339     81.699146      1.357717      1.220649      0.086349   \n",
       "std       14.289980      7.673399      0.675203      0.567601      0.280881   \n",
       "min       90.000000     65.000000      1.000000      1.000000      0.000000   \n",
       "25%      120.000000     80.000000      1.000000      1.000000      0.000000   \n",
       "50%      120.000000     80.000000      1.000000      1.000000      0.000000   \n",
       "75%      140.000000     90.000000      1.000000      1.000000      0.000000   \n",
       "max      170.000000    105.000000      3.000000      3.000000      1.000000   \n",
       "\n",
       "               alco        active        cardio  \n",
       "count  62502.000000  62502.000000  62502.000000  \n",
       "mean       0.052174      0.804310      0.493904  \n",
       "std        0.222380      0.396734      0.499967  \n",
       "min        0.000000      0.000000      0.000000  \n",
       "25%        0.000000      1.000000      0.000000  \n",
       "50%        0.000000      1.000000      0.000000  \n",
       "75%        0.000000      1.000000      1.000000  \n",
       "max        1.000000      1.000000      1.000000  "
      ]
     },
     "execution_count": 23,
     "metadata": {},
     "output_type": "execute_result"
    }
   ],
   "source": [
    "df.describe()"
   ]
  },
  {
   "cell_type": "code",
   "execution_count": 24,
   "id": "6678e8fe",
   "metadata": {},
   "outputs": [
    {
     "data": {
      "text/plain": [
       "(62502, 13)"
      ]
     },
     "execution_count": 24,
     "metadata": {},
     "output_type": "execute_result"
    }
   ],
   "source": [
    "df.shape"
   ]
  },
  {
   "cell_type": "markdown",
   "id": "77cdf9b2",
   "metadata": {},
   "source": [
    "#### Drop ID column"
   ]
  },
  {
   "cell_type": "code",
   "execution_count": 25,
   "id": "f2b896e6",
   "metadata": {},
   "outputs": [],
   "source": [
    "df = df.drop(['id'], axis=1)"
   ]
  },
  {
   "cell_type": "code",
   "execution_count": 26,
   "id": "a38ed661",
   "metadata": {},
   "outputs": [
    {
     "data": {
      "text/html": [
       "<div>\n",
       "<style scoped>\n",
       "    .dataframe tbody tr th:only-of-type {\n",
       "        vertical-align: middle;\n",
       "    }\n",
       "\n",
       "    .dataframe tbody tr th {\n",
       "        vertical-align: top;\n",
       "    }\n",
       "\n",
       "    .dataframe thead th {\n",
       "        text-align: right;\n",
       "    }\n",
       "</style>\n",
       "<table border=\"1\" class=\"dataframe\">\n",
       "  <thead>\n",
       "    <tr style=\"text-align: right;\">\n",
       "      <th></th>\n",
       "      <th>age</th>\n",
       "      <th>gender</th>\n",
       "      <th>height</th>\n",
       "      <th>weight</th>\n",
       "      <th>ap_hi</th>\n",
       "      <th>ap_lo</th>\n",
       "      <th>cholesterol</th>\n",
       "      <th>gluc</th>\n",
       "      <th>smoke</th>\n",
       "      <th>alco</th>\n",
       "      <th>active</th>\n",
       "      <th>cardio</th>\n",
       "    </tr>\n",
       "  </thead>\n",
       "  <tbody>\n",
       "    <tr>\n",
       "      <th>0</th>\n",
       "      <td>50</td>\n",
       "      <td>2</td>\n",
       "      <td>168.0</td>\n",
       "      <td>62.0</td>\n",
       "      <td>110.0</td>\n",
       "      <td>80.0</td>\n",
       "      <td>1</td>\n",
       "      <td>1</td>\n",
       "      <td>0</td>\n",
       "      <td>0</td>\n",
       "      <td>1</td>\n",
       "      <td>0</td>\n",
       "    </tr>\n",
       "    <tr>\n",
       "      <th>1</th>\n",
       "      <td>55</td>\n",
       "      <td>1</td>\n",
       "      <td>156.0</td>\n",
       "      <td>85.0</td>\n",
       "      <td>140.0</td>\n",
       "      <td>90.0</td>\n",
       "      <td>3</td>\n",
       "      <td>1</td>\n",
       "      <td>0</td>\n",
       "      <td>0</td>\n",
       "      <td>1</td>\n",
       "      <td>1</td>\n",
       "    </tr>\n",
       "    <tr>\n",
       "      <th>2</th>\n",
       "      <td>51</td>\n",
       "      <td>1</td>\n",
       "      <td>165.0</td>\n",
       "      <td>64.0</td>\n",
       "      <td>130.0</td>\n",
       "      <td>70.0</td>\n",
       "      <td>3</td>\n",
       "      <td>1</td>\n",
       "      <td>0</td>\n",
       "      <td>0</td>\n",
       "      <td>0</td>\n",
       "      <td>1</td>\n",
       "    </tr>\n",
       "    <tr>\n",
       "      <th>3</th>\n",
       "      <td>48</td>\n",
       "      <td>2</td>\n",
       "      <td>169.0</td>\n",
       "      <td>82.0</td>\n",
       "      <td>150.0</td>\n",
       "      <td>100.0</td>\n",
       "      <td>1</td>\n",
       "      <td>1</td>\n",
       "      <td>0</td>\n",
       "      <td>0</td>\n",
       "      <td>1</td>\n",
       "      <td>1</td>\n",
       "    </tr>\n",
       "    <tr>\n",
       "      <th>5</th>\n",
       "      <td>60</td>\n",
       "      <td>1</td>\n",
       "      <td>151.0</td>\n",
       "      <td>67.0</td>\n",
       "      <td>120.0</td>\n",
       "      <td>80.0</td>\n",
       "      <td>2</td>\n",
       "      <td>2</td>\n",
       "      <td>0</td>\n",
       "      <td>0</td>\n",
       "      <td>0</td>\n",
       "      <td>0</td>\n",
       "    </tr>\n",
       "  </tbody>\n",
       "</table>\n",
       "</div>"
      ],
      "text/plain": [
       "   age  gender  height  weight  ap_hi  ap_lo  cholesterol  gluc  smoke  alco  \\\n",
       "0   50       2   168.0    62.0  110.0   80.0            1     1      0     0   \n",
       "1   55       1   156.0    85.0  140.0   90.0            3     1      0     0   \n",
       "2   51       1   165.0    64.0  130.0   70.0            3     1      0     0   \n",
       "3   48       2   169.0    82.0  150.0  100.0            1     1      0     0   \n",
       "5   60       1   151.0    67.0  120.0   80.0            2     2      0     0   \n",
       "\n",
       "   active  cardio  \n",
       "0       1       0  \n",
       "1       1       1  \n",
       "2       0       1  \n",
       "3       1       1  \n",
       "5       0       0  "
      ]
     },
     "execution_count": 26,
     "metadata": {},
     "output_type": "execute_result"
    }
   ],
   "source": [
    "df.head()"
   ]
  },
  {
   "cell_type": "markdown",
   "id": "9c1f967a",
   "metadata": {},
   "source": [
    "### TRAINING USING OneR"
   ]
  },
  {
   "cell_type": "code",
   "execution_count": 27,
   "id": "e8de3fc6",
   "metadata": {},
   "outputs": [],
   "source": [
    "feature_cols = df.columns[:-1]  # all columns except the last one\n",
    "target_col = df.columns[-1]  # the last column"
   ]
  },
  {
   "cell_type": "code",
   "execution_count": 28,
   "id": "06a93731",
   "metadata": {},
   "outputs": [],
   "source": [
    "X = df[feature_cols]\n",
    "y = df[target_col]"
   ]
  },
  {
   "cell_type": "code",
   "execution_count": 29,
   "id": "daabef5b",
   "metadata": {},
   "outputs": [],
   "source": [
    "X_train, X_test, y_train, y_test = train_test_split(X, y, test_size=0.2, random_state=42)"
   ]
  },
  {
   "cell_type": "code",
   "execution_count": 30,
   "id": "b324f8c6",
   "metadata": {},
   "outputs": [],
   "source": [
    "# Define the OneR algorithm\n",
    "def oneR_algorithm(X_train, y_train):\n",
    "    # Find the best attribute by trying to split on each of them\n",
    "    best_attribute = None\n",
    "    best_error_rate = float('inf')\n",
    "    attribute_rules = {}\n",
    "\n",
    "    for attribute in X_train.columns:\n",
    "        # Count the frequency of each value of the attribute\n",
    "        value_counts = X_train[attribute].value_counts().to_dict()\n",
    "\n",
    "        # For each attribute value, find the most frequent class\n",
    "        rules = {}\n",
    "        errors = 0\n",
    "        for value, count in value_counts.items():\n",
    "            most_frequent_class = y_train[X_train[attribute] == value].mode()[0]\n",
    "            rules[value] = most_frequent_class\n",
    "            # Count errors for the current attribute\n",
    "            errors += count - y_train[X_train[attribute] == value].value_counts()[most_frequent_class]\n",
    "\n",
    "        # Calculate the error rate for the attribute\n",
    "        error_rate = errors / len(X_train)\n",
    "\n",
    "        # Update the best attribute if the current one is better\n",
    "        if error_rate < best_error_rate:\n",
    "            best_error_rate = error_rate\n",
    "            best_attribute = attribute\n",
    "            attribute_rules = rules\n",
    "\n",
    "    return best_attribute, attribute_rules"
   ]
  },
  {
   "cell_type": "code",
   "execution_count": 31,
   "id": "c7c14ac5",
   "metadata": {},
   "outputs": [],
   "source": [
    "# Train the OneR classifier\n",
    "best_attribute, rules = oneR_algorithm(X_train, y_train)"
   ]
  },
  {
   "cell_type": "code",
   "execution_count": 32,
   "id": "3284e572",
   "metadata": {},
   "outputs": [],
   "source": [
    "\n",
    "# A function to make predictions using OneR\n",
    "def oneR_predict(X, best_attribute, rules):\n",
    "    predictions = []\n",
    "    for index, row in X.iterrows():\n",
    "        attribute_value = row[best_attribute]\n",
    "        predictions.append(rules.get(attribute_value, y_train.mode()[0]))\n",
    "    return predictions\n"
   ]
  },
  {
   "cell_type": "code",
   "execution_count": 33,
   "id": "3dc3509e",
   "metadata": {},
   "outputs": [],
   "source": [
    "y_pred = oneR_predict(X_test, best_attribute, rules)"
   ]
  },
  {
   "cell_type": "code",
   "execution_count": 34,
   "id": "35bb8de9",
   "metadata": {
    "scrolled": true
   },
   "outputs": [
    {
     "name": "stdout",
     "output_type": "stream",
     "text": [
      "The best attribute is: ap_hi\n",
      "The rules based on the best attribute are:\n",
      "{120.0: 0, 140.0: 1, 130.0: 1, 110.0: 0, 150.0: 1, 160.0: 1, 100.0: 0, 170.0: 1, 125.0: 0, 145.0: 1, 115.0: 0, 135.0: 1, 90.0: 0, 155.0: 1, 105.0: 0, 128.0: 0, 165.0: 1, 123.0: 0, 127.0: 0, 117.0: 0, 112.0: 0, 124.0: 0, 148.0: 1, 141.0: 1, 122.0: 0, 138.0: 1, 132.0: 0, 121.0: 0, 153.0: 1, 151.0: 1, 118.0: 0, 168.0: 1, 95.0: 0, 126.0: 0, 156.0: 1, 113.0: 0, 134.0: 1, 136.0: 1, 147.0: 1, 139.0: 1, 119.0: 0, 149.0: 1, 143.0: 1, 108.0: 0, 114.0: 0, 131.0: 1, 102.0: 0, 116.0: 0, 164.0: 1, 146.0: 1, 142.0: 1, 111.0: 0, 137.0: 0, 144.0: 0, 133.0: 0, 152.0: 1, 109.0: 0, 154.0: 1, 158.0: 1, 159.0: 1, 166.0: 0, 163.0: 1, 106.0: 0, 103.0: 0, 107.0: 0, 162.0: 0, 129.0: 0, 99.0: 0, 104.0: 1, 169.0: 1, 157.0: 1, 96.0: 0, 167.0: 1, 161.0: 1, 101.0: 0}\n"
     ]
    }
   ],
   "source": [
    "print(f\"The best attribute is: {best_attribute}\")\n",
    "print(\"The rules based on the best attribute are:\")\n",
    "print(rules)\n"
   ]
  },
  {
   "cell_type": "code",
   "execution_count": 35,
   "id": "5b1ea477",
   "metadata": {},
   "outputs": [],
   "source": [
    "new_patient_data = {\n",
    "    'age': [68],\n",
    "    'gender': [1], \n",
    "    'height': [132], \n",
    "    'weight': [71],  \n",
    "    'ap_hi': [140],  \n",
    "    'ao_lo': [90],  \n",
    "    'cholestrol': [2], \n",
    "    'gluc': [2],  \n",
    "    'smoke': [0], \n",
    "    'alco': [1],  \n",
    "    'active': [0]\n",
    "}"
   ]
  },
  {
   "cell_type": "code",
   "execution_count": 36,
   "id": "e4b038f7",
   "metadata": {},
   "outputs": [],
   "source": [
    "# Convert the dictionary to a DataFrame\n",
    "new_data = pd.DataFrame(new_patient_data)"
   ]
  },
  {
   "cell_type": "code",
   "execution_count": 37,
   "id": "8e89034a",
   "metadata": {},
   "outputs": [],
   "source": [
    "# Use the trained OneR classifier to make predictions\n",
    "new_predictions = oneR_predict(new_data, best_attribute, rules)"
   ]
  },
  {
   "cell_type": "code",
   "execution_count": 38,
   "id": "68f98c6b",
   "metadata": {},
   "outputs": [
    {
     "name": "stdout",
     "output_type": "stream",
     "text": [
      "Predictions for the new data:\n",
      "[1]\n"
     ]
    }
   ],
   "source": [
    "print(\"Predictions for the new data:\")\n",
    "print(new_predictions)"
   ]
  },
  {
   "cell_type": "code",
   "execution_count": 39,
   "id": "35115492",
   "metadata": {},
   "outputs": [],
   "source": [
    "from sklearn.metrics import classification_report\n",
    "from sklearn.metrics import confusion_matrix"
   ]
  },
  {
   "cell_type": "code",
   "execution_count": 43,
   "id": "94b12a6c",
   "metadata": {},
   "outputs": [
    {
     "data": {
      "image/png": "[encoded data removed]",
      "text/plain": [
       "<Figure size 640x480 with 2 Axes>"
      ]
     },
     "metadata": {},
     "output_type": "display_data"
    }
   ],
   "source": [
    "graph_nb = confusion_matrix(y_test, y_pred)\n",
    "g_nb = pd.DataFrame(graph_nb, columns = np.unique(y_pred), index = np.unique(y_pred))\n",
    "g_nb.index.name = 'Actual'\n",
    "g_nb.columns.name = 'Predicted'\n",
    "\n",
    "sns.heatmap(g_nb, annot = True)\n",
    "plt.show()"
   ]
  },
  {
   "cell_type": "code",
   "execution_count": 45,
   "id": "58770377",
   "metadata": {},
   "outputs": [
    {
     "name": "stdout",
     "output_type": "stream",
     "text": [
      "True Positive Cases : 3791\n",
      "True Negative Cases : 5101\n",
      "False Positive Cases : 1244\n",
      "False Negative Cases : 2365\n"
     ]
    }
   ],
   "source": [
    "print('True Positive Cases : {}'.format(confusion_matrix(y_test, y_pred)[1][1]))\n",
    "print('True Negative Cases : {}'.format(confusion_matrix(y_test, y_pred)[0][0]))\n",
    "print('False Positive Cases : {}'.format(confusion_matrix(y_test, y_pred)[0][1]))\n",
    "print('False Negative Cases : {}'.format(confusion_matrix(y_test, y_pred)[1][0]))"
   ]
  },
  {
   "cell_type": "code",
   "execution_count": 47,
   "id": "cad1bbaa",
   "metadata": {
    "scrolled": true
   },
   "outputs": [
    {
     "name": "stdout",
     "output_type": "stream",
     "text": [
      "              precision    recall  f1-score   support\n",
      "\n",
      "           0       0.68      0.80      0.74      6345\n",
      "           1       0.75      0.62      0.68      6156\n",
      "\n",
      "    accuracy                           0.71     12501\n",
      "   macro avg       0.72      0.71      0.71     12501\n",
      "weighted avg       0.72      0.71      0.71     12501\n",
      "\n"
     ]
    }
   ],
   "source": [
    "print(classification_report(y_test, y_pred))"
   ]
  },
  {
   "cell_type": "code",
   "execution_count": null,
   "id": "656d6688",
   "metadata": {},
   "outputs": [],
   "source": []
  }
 ],
 "metadata": {
  "kernelspec": {
   "display_name": "Python 3 (ipykernel)",
   "language": "python",
   "name": "python3"
  },
  "language_info": {
   "codemirror_mode": {
    "name": "ipython",
    "version": 3
   },
   "file_extension": ".py",
   "mimetype": "text/x-python",
   "name": "python",
   "nbconvert_exporter": "python",
   "pygments_lexer": "ipython3",
   "version": "3.10.9"
  }
 },
 "nbformat": 4,
 "nbformat_minor": 5
}
